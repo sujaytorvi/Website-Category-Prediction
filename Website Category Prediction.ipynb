{
  "nbformat": 4,
  "nbformat_minor": 0,
  "metadata": {
    "colab": {
      "name": "Scalenut-Assignment.ipynb",
      "provenance": [],
      "collapsed_sections": []
    },
    "kernelspec": {
      "name": "python3",
      "display_name": "Python 3"
    },
    "language_info": {
      "name": "python"
    }
  },
  "cells": [
    {
      "cell_type": "markdown",
      "metadata": {
        "id": "q72cF3EMl4ma"
      },
      "source": [
        "### **Scalenut Assignment**\n",
        "\n",
        "#### **Author: Sujay Torvi**\n",
        "\n",
        "Problem Definition:\n",
        "Let’s say we have to categorize web pages. Typically theys can be categorized under four heads:\n",
        "- E-commerce page (like Amazon)\n",
        "- Listing page (like naukri, zomato etc)\n",
        "- Article (landing page , Blogs)\n",
        "- Video / images pages (YouTube etc)\n",
        "\n",
        "Devise a function in which input is a URL and output is a prediction (predicting the input URL to be one of the above categories)\n",
        "Feel free to use any existing platform / API / Ml model etc.\n",
        "\n"
      ]
    },
    {
      "cell_type": "markdown",
      "metadata": {
        "id": "ALY5oaqimd1H"
      },
      "source": [
        "### **Solution Approach**\n",
        "\n",
        "### 1. Scrape the website for  metadata, SEO Keywords etc\n",
        "    Query the Google Search Engine and get Search Results and obtain Data, SEO Keywords\n",
        "\n",
        "### 2. Clean the data\n",
        "    Remove punctuations, undesirable characters and remove stopwords using nlp libraries, regex, etc\n",
        "\n",
        "### 3. Collect Keywords of each category from the internet \n",
        "    For example an e-commerce website is bound to include keywords such as 'deals', 'offers' , etc and a article website will have 'headlines', etc\n",
        "    Dataset consists of many such keywords for each category \n",
        "\n",
        "### 4. Evaluate the website metadata and predict category\n",
        "    Compare website metadata with the keyword dataset. The website having the highest frequency of keywords in a certain category is classified into that category."
      ]
    },
    {
      "cell_type": "markdown",
      "metadata": {
        "id": "pt8weR1oqW1q"
      },
      "source": [
        "### Import Libraries"
      ]
    },
    {
      "cell_type": "code",
      "metadata": {
        "id": "cx6EgacKl5rc"
      },
      "source": [
        "!pip install requests_html\n",
        "import requests\n",
        "import urllib\n",
        "import pandas as pd\n",
        "from requests_html import HTML\n",
        "from requests_html import HTMLSession\n",
        "import re "
      ],
      "execution_count": null,
      "outputs": []
    },
    {
      "cell_type": "code",
      "metadata": {
        "colab": {
          "base_uri": "https://localhost:8080/"
        },
        "id": "b46u8lwZK6lU",
        "outputId": "2545ff27-c3fe-4aca-8546-8c9444308e75"
      },
      "source": [
        "import nltk\n",
        "nltk.download('stopwords')\n",
        "nltk.download('punkt')"
      ],
      "execution_count": null,
      "outputs": [
        {
          "output_type": "stream",
          "text": [
            "[nltk_data] Downloading package stopwords to /root/nltk_data...\n",
            "[nltk_data]   Package stopwords is already up-to-date!\n",
            "[nltk_data] Downloading package punkt to /root/nltk_data...\n",
            "[nltk_data]   Unzipping tokenizers/punkt.zip.\n"
          ],
          "name": "stdout"
        },
        {
          "output_type": "execute_result",
          "data": {
            "text/plain": [
              "True"
            ]
          },
          "metadata": {
            "tags": []
          },
          "execution_count": 228
        }
      ]
    },
    {
      "cell_type": "code",
      "metadata": {
        "id": "l1sSOszfLNev"
      },
      "source": [
        "from nltk.corpus import stopwords\n",
        "from nltk.tokenize import word_tokenize"
      ],
      "execution_count": null,
      "outputs": []
    },
    {
      "cell_type": "markdown",
      "metadata": {
        "id": "eLBGFINPqgn0"
      },
      "source": [
        "### Scrape the website"
      ]
    },
    {
      "cell_type": "code",
      "metadata": {
        "id": "El5P8_7XoEk3"
      },
      "source": [
        "def get_source(url):\n",
        "    try:\n",
        "        session = HTMLSession()\n",
        "        response = session.get(url)\n",
        "        return response\n",
        "\n",
        "    except requests.exceptions.RequestException as e:\n",
        "        print(e)"
      ],
      "execution_count": null,
      "outputs": []
    },
    {
      "cell_type": "code",
      "metadata": {
        "id": "q0pCorqNokEr"
      },
      "source": [
        "def get_results(query):\n",
        "    \n",
        "    query = urllib.parse.quote_plus(query)\n",
        "    response = get_source(\"https://www.google.co.in/search?q=\" + query)\n",
        "    \n",
        "    return response"
      ],
      "execution_count": null,
      "outputs": []
    },
    {
      "cell_type": "code",
      "metadata": {
        "id": "THn_ltc7os59"
      },
      "source": [
        "def parse_results(response):\n",
        "    \n",
        "    css_identifier_result = \".tF2Cxc\"\n",
        "    css_identifier_title = \"h3\"\n",
        "    css_identifier_link = \".yuRUbf a\"\n",
        "    css_identifier_text = \".IsZvec\"\n",
        "    \n",
        "    results = response.html.find(css_identifier_result)\n",
        "\n",
        "    output = []\n",
        "    \n",
        "    for result in results:\n",
        "\n",
        "        item = {\n",
        "            'title': result.find(css_identifier_title, first=True).text,\n",
        "            'link': result.find(css_identifier_link, first=True).attrs['href'],\n",
        "            'text': result.find(css_identifier_text, first=True).text\n",
        "        }\n",
        "        \n",
        "        output.append(item)\n",
        "        \n",
        "    return output"
      ],
      "execution_count": null,
      "outputs": []
    },
    {
      "cell_type": "code",
      "metadata": {
        "id": "j_XW3Izdovu4"
      },
      "source": [
        "def google_search(query):\n",
        "    response = get_results(query)\n",
        "    return parse_results(response)"
      ],
      "execution_count": null,
      "outputs": []
    },
    {
      "cell_type": "code",
      "metadata": {
        "id": "7zI0wB1Ip_aD"
      },
      "source": [
        "def get_google_result(query):\n",
        "  results = google_search(query)\n",
        "  desc = ''\n",
        "  for res in results:\n",
        "    desc = desc + ' ' + res['text']\n",
        "  return desc"
      ],
      "execution_count": null,
      "outputs": []
    },
    {
      "cell_type": "code",
      "metadata": {
        "id": "UsMkdyu5ozLz"
      },
      "source": [
        "text = get_google_result('https://www.ebay.com/')"
      ],
      "execution_count": null,
      "outputs": []
    },
    {
      "cell_type": "markdown",
      "metadata": {
        "id": "GVjvCG2sqtwf"
      },
      "source": [
        "### After Scraping the text returned for ebay website looks like this"
      ]
    },
    {
      "cell_type": "code",
      "metadata": {
        "colab": {
          "base_uri": "https://localhost:8080/",
          "height": 120
        },
        "id": "cXfQtl9oEivy",
        "outputId": "96a627e6-ef13-438f-86eb-cf8dbda0fd4e"
      },
      "source": [
        "text"
      ],
      "execution_count": null,
      "outputs": [
        {
          "output_type": "execute_result",
          "data": {
            "application/vnd.google.colaboratory.intrinsic+json": {
              "type": "string"
            },
            "text/plain": [
              "\" Buy & sell electronics, cars, clothes, collectibles & more on eBay, the world's online marketplace. Top brands, low prices & free shipping on many items. 根據你使用eBay的經驗而度身訂造的個人升級速成步驟，讓你按步就班，輕鬆掌握要訣，晉升成為升級賣家！ Product description. Buy and sell on the go with eBay. Explore discount offers on best-selling ... Developer info. mobilehelp@ebay.com · http://mobile.ebay.com · More apps by this developer\\xa0...\\n評分：4.3 · \\u200e26,510 則評論 That memory helped motivate her to start Pride Socks, whose mission is to make everyone proud of who they are. https://www.ebay.com/str/pridesocks. 沒有這個頁面的資訊。\\n瞭解原因 eBay Headquarters. 2025 Hamilton ... Interested in joining us? Get in touch with our ... Contact the eBay Global Privacy Office for privacy-related inquiries. 沒有這個頁面的資訊。\\n瞭解原因\""
            ]
          },
          "metadata": {
            "tags": []
          },
          "execution_count": 219
        }
      ]
    },
    {
      "cell_type": "markdown",
      "metadata": {
        "id": "IZSOkTt8qvfI"
      },
      "source": [
        "### Perform the necessary cleaning and filtering of text"
      ]
    },
    {
      "cell_type": "code",
      "metadata": {
        "id": "-7bMz-n-uufo"
      },
      "source": [
        "def strip_chinese(string):\n",
        "    en_list = re.findall(u'[^\\u4E00-\\u9FA5]', string)\n",
        "    for c in string:\n",
        "        if c not in en_list:\n",
        "            string = string.replace(c, '')\n",
        "    return string\n",
        "\n",
        "def strip_url(string):\n",
        "  text = re.sub(r'http\\S+', '', string, flags=re.MULTILINE)\n",
        "  return text\n",
        "\n",
        "def strip_email(string):\n",
        "  text = re.sub(\"\\S*@\\S*\\s?\",\"\",string)\n",
        "  return text\n",
        "\n",
        "def strip_punctuation(string):\n",
        "  text = re.sub(r'[^\\w\\s]', ' ', string)\n",
        "  return text\n",
        "\n",
        "def strip_numbers(string):\n",
        "  text = re.sub(\"\\d+\", \"\", string)\n",
        "  return text\n",
        "\n",
        "def strip_whitespaces(string):\n",
        "  text =  re.sub(' +', ' ', string)\n",
        "  return text\n",
        "\n",
        "def remove_multiline(string):\n",
        "  text =\"\".join(string.splitlines())\n",
        "  return text\n",
        "\n",
        "def make_lowercase(string):\n",
        "  text = string.lower()\n",
        "  return text"
      ],
      "execution_count": null,
      "outputs": []
    },
    {
      "cell_type": "code",
      "metadata": {
        "id": "lHvYgvvIMhvZ"
      },
      "source": [
        "def clean_text(text):\n",
        "  text = strip_chinese(text)\n",
        "  text = strip_numbers(text)\n",
        "  text = strip_url(text)\n",
        "  text = strip_email(text)\n",
        "  text = strip_punctuation(text)\n",
        "  text = strip_whitespaces(text)\n",
        "  text = remove_multiline(text)\n",
        "  text = make_lowercase(text)\n",
        "  token = word_tokenize(text)\n",
        "  text = ' '.join([word for word in token if not word in stopwords.words()])\n",
        "  return text"
      ],
      "execution_count": null,
      "outputs": []
    },
    {
      "cell_type": "markdown",
      "metadata": {
        "id": "30zV7Befq4ym"
      },
      "source": [
        "### Import the keyword dataset. The dataset contains ~60 keywords for each category. "
      ]
    },
    {
      "cell_type": "code",
      "metadata": {
        "colab": {
          "resources": {
            "http://localhost:8080/nbextensions/google.colab/files.js": {
              "data": "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",
              "ok": true,
              "headers": [
                [
                  "content-type",
                  "application/javascript"
                ]
              ],
              "status": 200,
              "status_text": ""
            }
          },
          "base_uri": "https://localhost:8080/",
          "height": 72
        },
        "id": "ZvOmABiRMatc",
        "outputId": "80c085dc-e2ff-4fa8-aee1-9184a059e81e"
      },
      "source": [
        "from google.colab import files \n",
        "file = files.upload()"
      ],
      "execution_count": null,
      "outputs": [
        {
          "output_type": "display_data",
          "data": {
            "text/html": [
              "\n",
              "     <input type=\"file\" id=\"files-8449bfe3-85c1-40e7-86a4-abe9c1bf20dd\" name=\"files[]\" multiple disabled\n",
              "        style=\"border:none\" />\n",
              "     <output id=\"result-8449bfe3-85c1-40e7-86a4-abe9c1bf20dd\">\n",
              "      Upload widget is only available when the cell has been executed in the\n",
              "      current browser session. Please rerun this cell to enable.\n",
              "      </output>\n",
              "      <script src=\"/nbextensions/google.colab/files.js\"></script> "
            ],
            "text/plain": [
              "<IPython.core.display.HTML object>"
            ]
          },
          "metadata": {
            "tags": []
          }
        },
        {
          "output_type": "stream",
          "text": [
            "Saving keyword-dataset.xlsx to keyword-dataset.xlsx\n"
          ],
          "name": "stdout"
        }
      ]
    },
    {
      "cell_type": "code",
      "metadata": {
        "id": "GKFy0hnr_4Nb"
      },
      "source": [
        "import numpy as np\n",
        "import pandas as pd"
      ],
      "execution_count": null,
      "outputs": []
    },
    {
      "cell_type": "code",
      "metadata": {
        "id": "DcDyhX-_Pw0X"
      },
      "source": [
        "dataset = pd.read_excel('keyword-dataset.xlsx')"
      ],
      "execution_count": null,
      "outputs": []
    },
    {
      "cell_type": "code",
      "metadata": {
        "colab": {
          "base_uri": "https://localhost:8080/",
          "height": 359
        },
        "id": "zGIajfN-P_-B",
        "outputId": "84956e5f-034a-45e6-c770-a444b5366b23"
      },
      "source": [
        "dataset.head(10)"
      ],
      "execution_count": null,
      "outputs": [
        {
          "output_type": "execute_result",
          "data": {
            "text/html": [
              "<div>\n",
              "<style scoped>\n",
              "    .dataframe tbody tr th:only-of-type {\n",
              "        vertical-align: middle;\n",
              "    }\n",
              "\n",
              "    .dataframe tbody tr th {\n",
              "        vertical-align: top;\n",
              "    }\n",
              "\n",
              "    .dataframe thead th {\n",
              "        text-align: right;\n",
              "    }\n",
              "</style>\n",
              "<table border=\"1\" class=\"dataframe\">\n",
              "  <thead>\n",
              "    <tr style=\"text-align: right;\">\n",
              "      <th></th>\n",
              "      <th>Keyword_No</th>\n",
              "      <th>E-Commerce</th>\n",
              "      <th>Video/Streaming/Images</th>\n",
              "      <th>Listing</th>\n",
              "      <th>Article/Blog/News</th>\n",
              "    </tr>\n",
              "  </thead>\n",
              "  <tbody>\n",
              "    <tr>\n",
              "      <th>0</th>\n",
              "      <td>1</td>\n",
              "      <td>shipping</td>\n",
              "      <td>videos</td>\n",
              "      <td>listing</td>\n",
              "      <td>headlines</td>\n",
              "    </tr>\n",
              "    <tr>\n",
              "      <th>1</th>\n",
              "      <td>2</td>\n",
              "      <td>item</td>\n",
              "      <td>video</td>\n",
              "      <td>discover</td>\n",
              "      <td>news</td>\n",
              "    </tr>\n",
              "    <tr>\n",
              "      <th>2</th>\n",
              "      <td>3</td>\n",
              "      <td>items</td>\n",
              "      <td>music</td>\n",
              "      <td>connects</td>\n",
              "      <td>stories</td>\n",
              "    </tr>\n",
              "    <tr>\n",
              "      <th>3</th>\n",
              "      <td>4</td>\n",
              "      <td>shopping</td>\n",
              "      <td>movies</td>\n",
              "      <td>connect</td>\n",
              "      <td>politics</td>\n",
              "    </tr>\n",
              "    <tr>\n",
              "      <th>4</th>\n",
              "      <td>5</td>\n",
              "      <td>price</td>\n",
              "      <td>movie</td>\n",
              "      <td>listings</td>\n",
              "      <td>post</td>\n",
              "    </tr>\n",
              "    <tr>\n",
              "      <th>5</th>\n",
              "      <td>6</td>\n",
              "      <td>prices</td>\n",
              "      <td>stream</td>\n",
              "      <td>directory</td>\n",
              "      <td>articles</td>\n",
              "    </tr>\n",
              "    <tr>\n",
              "      <th>6</th>\n",
              "      <td>7</td>\n",
              "      <td>low</td>\n",
              "      <td>watching</td>\n",
              "      <td>apply</td>\n",
              "      <td>article</td>\n",
              "    </tr>\n",
              "    <tr>\n",
              "      <th>7</th>\n",
              "      <td>8</td>\n",
              "      <td>deal</td>\n",
              "      <td>watch</td>\n",
              "      <td>search</td>\n",
              "      <td>publish</td>\n",
              "    </tr>\n",
              "    <tr>\n",
              "      <th>8</th>\n",
              "      <td>9</td>\n",
              "      <td>great</td>\n",
              "      <td>film</td>\n",
              "      <td>find</td>\n",
              "      <td>newspaper</td>\n",
              "    </tr>\n",
              "    <tr>\n",
              "      <th>9</th>\n",
              "      <td>10</td>\n",
              "      <td>deals</td>\n",
              "      <td>films</td>\n",
              "      <td>engine</td>\n",
              "      <td>online</td>\n",
              "    </tr>\n",
              "  </tbody>\n",
              "</table>\n",
              "</div>"
            ],
            "text/plain": [
              "   Keyword_No E-Commerce Video/Streaming/Images    Listing Article/Blog/News\n",
              "0           1   shipping                 videos    listing         headlines\n",
              "1           2       item                  video   discover              news\n",
              "2           3      items                  music   connects           stories\n",
              "3           4   shopping                 movies    connect          politics\n",
              "4           5      price                  movie   listings              post\n",
              "5           6     prices                 stream  directory          articles\n",
              "6           7        low               watching      apply           article\n",
              "7           8       deal                  watch     search           publish\n",
              "8           9      great                   film       find         newspaper\n",
              "9          10      deals                  films     engine            online"
            ]
          },
          "metadata": {
            "tags": []
          },
          "execution_count": 258
        }
      ]
    },
    {
      "cell_type": "markdown",
      "metadata": {
        "id": "HHo_Ani_rJPU"
      },
      "source": [
        "### Convert the keyword values into list array"
      ]
    },
    {
      "cell_type": "code",
      "metadata": {
        "id": "Iuuz-x2iQDUp"
      },
      "source": [
        "e_commerce_sites = dataset['E-Commerce'].values.tolist()\n",
        "streaming_sites = dataset['Video/Streaming/Images'].values.tolist()\n",
        "listing_sites = dataset['Listing'].values.tolist()\n",
        "news_blogging_sites = dataset['Article/Blog/News'].values.tolist()"
      ],
      "execution_count": null,
      "outputs": []
    },
    {
      "cell_type": "markdown",
      "metadata": {
        "id": "gVw2splzrR9d"
      },
      "source": [
        "### Perform Comparision and predict the category of website"
      ]
    },
    {
      "cell_type": "code",
      "metadata": {
        "id": "wEEbHDCzbqDb"
      },
      "source": [
        "def predict(url):\n",
        "  text = clean_text(get_google_result(url))\n",
        "  text = word_tokenize(text)\n",
        "\n",
        "  category1_count = 0 \n",
        "  category2_count = 0 \n",
        "  category3_count = 0\n",
        "  category4_count = 0\n",
        "\n",
        "  for word in text:\n",
        "    if(word in e_commerce_sites):\n",
        "      category1_count = category1_count + 1\n",
        "    if(word in streaming_sites):\n",
        "      category2_count = category2_count + 1\n",
        "    if(word in listing_sites):\n",
        "      category3_count = category3_count + 1\n",
        "    if(word in news_blogging_sites):\n",
        "      category4_count = category4_count + 1\n",
        "\n",
        "  total = category1_count + category2_count + category3_count + category4_count\n",
        "  category_counts = np.array([category1_count,category2_count,category3_count,category4_count])\n",
        "  print(\"\\033[1m\"+'Website Category Probability:\\n')\n",
        "  print('E-Commerce Website               {:.2f}%'.format((category1_count/total)*100))\n",
        "  print('Streaming/Images Website         {:.2f}%'.format((category2_count/total)*100))\n",
        "  print('Listing Website                  {:.2f}%'.format((category3_count/total)*100))\n",
        "  print('News/Blogging Website            {:.2f}%\\n'.format((category4_count/total)*100))\n",
        "  \n",
        "  if(category_counts.argmax() == 0):\n",
        "    print(\"It is an E-Commerce Website\")\n",
        "  elif(category_counts.argmax() == 1):\n",
        "        print(\"It is a Streaming/Image Website\")\n",
        "  elif(category_counts.argmax() == 2):\n",
        "        print(\"It is a Listing Website\")\n",
        "  elif(category_counts.argmax() == 3):\n",
        "        print(\"It is an News/Blogging Website\")"
      ],
      "execution_count": null,
      "outputs": []
    },
    {
      "cell_type": "markdown",
      "metadata": {
        "id": "rYLV_ru4rxpT"
      },
      "source": [
        "### Sample predictions"
      ]
    },
    {
      "cell_type": "code",
      "metadata": {
        "colab": {
          "base_uri": "https://localhost:8080/"
        },
        "id": "Rzu7TRqXlhth",
        "outputId": "580313a2-ae9a-4cb8-f2c4-c3d2931ed1e7"
      },
      "source": [
        "predict('https://www.zeenews.india.com/')"
      ],
      "execution_count": null,
      "outputs": [
        {
          "output_type": "stream",
          "text": [
            "\u001b[1mWebsite Category Probability:\n",
            "\n",
            "E-Commerce Website               3.92%\n",
            "Streaming/Images Website         18.63%\n",
            "Listing Website                  7.84%\n",
            "News/Blogging Website            69.61%\n",
            "\n",
            "It is an News/Blogging Website\n"
          ],
          "name": "stdout"
        }
      ]
    },
    {
      "cell_type": "code",
      "metadata": {
        "colab": {
          "base_uri": "https://localhost:8080/"
        },
        "id": "m4e5QjYUUKkD",
        "outputId": "c0bf60e0-4d9b-48b9-d4dc-8e6644856338"
      },
      "source": [
        "predict('https://www.zomato.com/')"
      ],
      "execution_count": null,
      "outputs": [
        {
          "output_type": "stream",
          "text": [
            "\u001b[1mWebsite Category Probability:\n",
            "\n",
            "E-Commerce Website               0.00%\n",
            "Streaming/Images Website         0.00%\n",
            "Listing Website                  70.00%\n",
            "News/Blogging Website            30.00%\n",
            "\n",
            "It is a Listing Website\n"
          ],
          "name": "stdout"
        }
      ]
    },
    {
      "cell_type": "code",
      "metadata": {
        "colab": {
          "base_uri": "https://localhost:8080/"
        },
        "id": "qPpynRnxj3Cv",
        "outputId": "aa10fc26-f67f-437d-8633-a5a35cccf7a9"
      },
      "source": [
        "predict('https://www.bbc.com/')"
      ],
      "execution_count": null,
      "outputs": [
        {
          "output_type": "stream",
          "text": [
            "\u001b[1mWebsite Category Probability:\n",
            "\n",
            "E-Commerce Website               4.88%\n",
            "Streaming/Images Website         21.95%\n",
            "Listing Website                  9.76%\n",
            "News/Blogging Website            63.41%\n",
            "\n",
            "It is an News/Blogging Website\n"
          ],
          "name": "stdout"
        }
      ]
    },
    {
      "cell_type": "code",
      "metadata": {
        "colab": {
          "base_uri": "https://localhost:8080/"
        },
        "id": "4c73SELIWZo9",
        "outputId": "59be7b2f-1878-4d95-aba2-b6a333c69512"
      },
      "source": [
        "predict('https://www.youtube.com/')"
      ],
      "execution_count": null,
      "outputs": [
        {
          "output_type": "stream",
          "text": [
            "\u001b[1mWebsite Category Probability:\n",
            "\n",
            "E-Commerce Website               11.11%\n",
            "Streaming/Images Website         50.00%\n",
            "Listing Website                  11.11%\n",
            "News/Blogging Website            27.78%\n",
            "\n",
            "It is a Streaming/Image Website\n"
          ],
          "name": "stdout"
        }
      ]
    },
    {
      "cell_type": "code",
      "metadata": {
        "colab": {
          "base_uri": "https://localhost:8080/"
        },
        "id": "fa1sO3grUWY6",
        "outputId": "c50c09e9-d4c6-4494-8803-53ef61817ef6"
      },
      "source": [
        "predict('https://www.netflix.com/')"
      ],
      "execution_count": null,
      "outputs": [
        {
          "output_type": "stream",
          "text": [
            "\u001b[1mWebsite Category Probability:\n",
            "\n",
            "E-Commerce Website               7.69%\n",
            "Streaming/Images Website         76.92%\n",
            "Listing Website                  7.69%\n",
            "News/Blogging Website            7.69%\n",
            "\n",
            "It is a Streaming/Image Website\n"
          ],
          "name": "stdout"
        }
      ]
    },
    {
      "cell_type": "code",
      "metadata": {
        "colab": {
          "base_uri": "https://localhost:8080/"
        },
        "id": "vk-jIfl-ZCDa",
        "outputId": "3a13a306-d7f0-4ad1-ed89-1afd55479523"
      },
      "source": [
        "predict('https://www.ebay.com/')"
      ],
      "execution_count": null,
      "outputs": [
        {
          "output_type": "stream",
          "text": [
            "\u001b[1mWebsite Category Probability:\n",
            "\n",
            "E-Commerce Website               82.61%\n",
            "Streaming/Images Website         0.00%\n",
            "Listing Website                  8.70%\n",
            "News/Blogging Website            8.70%\n",
            "\n",
            "It is an E-Commerce Website\n"
          ],
          "name": "stdout"
        }
      ]
    },
    {
      "cell_type": "code",
      "metadata": {
        "colab": {
          "base_uri": "https://localhost:8080/"
        },
        "id": "P4fDPhYdkNEB",
        "outputId": "0bef939a-5083-4ed4-c7ef-5348e525876f"
      },
      "source": [
        "predict('https://www.hbomax.com/')"
      ],
      "execution_count": null,
      "outputs": [
        {
          "output_type": "stream",
          "text": [
            "\u001b[1mWebsite Category Probability:\n",
            "\n",
            "E-Commerce Website               6.25%\n",
            "Streaming/Images Website         75.00%\n",
            "Listing Website                  6.25%\n",
            "News/Blogging Website            12.50%\n",
            "\n",
            "It is a Streaming/Image Website\n"
          ],
          "name": "stdout"
        }
      ]
    },
    {
      "cell_type": "code",
      "metadata": {
        "colab": {
          "base_uri": "https://localhost:8080/"
        },
        "id": "snZm8u0ukd8e",
        "outputId": "d6bd2381-08e0-475e-b4eb-850982706f03"
      },
      "source": [
        "predict('https://www.naukri.com/')"
      ],
      "execution_count": null,
      "outputs": [
        {
          "output_type": "stream",
          "text": [
            "\u001b[1mWebsite Category Probability:\n",
            "\n",
            "E-Commerce Website               21.05%\n",
            "Streaming/Images Website         5.26%\n",
            "Listing Website                  63.16%\n",
            "News/Blogging Website            10.53%\n",
            "\n",
            "It is a Listing Website\n"
          ],
          "name": "stdout"
        }
      ]
    },
    {
      "cell_type": "code",
      "metadata": {
        "colab": {
          "base_uri": "https://localhost:8080/"
        },
        "id": "Lrl68V4-ko59",
        "outputId": "7666684d-2650-4896-ff2f-79b62a900f43"
      },
      "source": [
        "predict('https://www.justdial.com/')"
      ],
      "execution_count": null,
      "outputs": [
        {
          "output_type": "stream",
          "text": [
            "\u001b[1mWebsite Category Probability:\n",
            "\n",
            "E-Commerce Website               20.69%\n",
            "Streaming/Images Website         3.45%\n",
            "Listing Website                  72.41%\n",
            "News/Blogging Website            3.45%\n",
            "\n",
            "It is a Listing Website\n"
          ],
          "name": "stdout"
        }
      ]
    },
    {
      "cell_type": "code",
      "metadata": {
        "id": "qUjvYCSSk04X"
      },
      "source": [
        ""
      ],
      "execution_count": null,
      "outputs": []
    }
  ]
}